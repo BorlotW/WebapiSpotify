{
  "nbformat": 4,
  "nbformat_minor": 0,
  "metadata": {
    "colab": {
      "provenance": [],
      "authorship_tag": "ABX9TyMRabzZMweupZ+lZTY02gxU",
      "include_colab_link": true
    },
    "kernelspec": {
      "name": "python3",
      "display_name": "Python 3"
    },
    "language_info": {
      "name": "python"
    }
  },
  "cells": [
    {
      "cell_type": "markdown",
      "metadata": {
        "id": "view-in-github",
        "colab_type": "text"
      },
      "source": [
        "<a href=\"https://colab.research.google.com/github/BorlotW/WebapiSpotify/blob/main/WebApiSpotify.ipynb\" target=\"_parent\"><img src=\"https://colab.research.google.com/assets/colab-badge.svg\" alt=\"Open In Colab\"/></a>"
      ]
    },
    {
      "cell_type": "markdown",
      "source": [
        "##### Teste: Consumo de Dados da Api do Spotify para analises sobre artistas e músicas."
      ],
      "metadata": {
        "id": "JdEv8szaJk65"
      }
    },
    {
      "cell_type": "code",
      "source": [
        "!pip install -q findspark\n",
        "!pip install -q unidecode\n",
        "!pip install -q pyspark\n",
        "import findspark\n",
        "findspark.init()\n",
        "\n",
        "import requests\n",
        "import json\n",
        "import unidecode\n",
        "from pyspark.sql import SparkSession\n",
        "\n",
        "spark = SparkSession.builder \\\n",
        "      .master(\"local[1]\") \\\n",
        "      .appName(\"Teste_Spark_Autoglass_candidatos\") \\\n",
        "      .getOrCreate()"
      ],
      "metadata": {
        "id": "glyeGpf2JewR"
      },
      "execution_count": 3,
      "outputs": []
    },
    {
      "cell_type": "markdown",
      "source": [
        "#### Get Token"
      ],
      "metadata": {
        "id": "7Ym1PV6gJ3J4"
      }
    },
    {
      "cell_type": "code",
      "source": [
        "client_id = \"\"\n",
        "client_secret = \"\""
      ],
      "metadata": {
        "id": "VR6By4mjJjbD"
      },
      "execution_count": 134,
      "outputs": []
    },
    {
      "cell_type": "code",
      "source": [
        "def GetToken(client_id,client_secret):\n",
        "  url = 'https://accounts.spotify.com/api/token'\n",
        "  data = {'grant_type': 'client_credentials'}\n",
        "  auth = (client_id, client_secret)\n",
        "  response = requests.post(url, data=data, auth=auth)\n",
        "  token = response.json().get('access_token')\n",
        "  return token\n",
        "\n",
        "def GetTokenPrivate(client_id,client_secret):\n",
        "  redirect_uri = 'https://www.example.com/oidc_callback'\n",
        "  scopes = 'user-library-read playlist-read-private'\n",
        "  authorize_url = 'https://accounts.spotify.com/authorize'\n",
        "  token_url = 'https://accounts.spotify.com/api/token'\n",
        "  auth_params = {\n",
        "      'client_id': client_id,\n",
        "      'response_type': 'code',\n",
        "      'redirect_uri': redirect_uri,\n",
        "      'scope': scopes,\n",
        "  }\n",
        "  auth_response = requests.get(authorize_url, params=auth_params)\n",
        "  print(\"Por favor, acesse esta URL para autorizar a aplicação:\", auth_response.url)\n",
        "  authorization_code = input(\"Por favor, insira o código de autorização: \")\n",
        "  token_data = {\n",
        "      'grant_type': 'authorization_code',\n",
        "      'code': authorization_code,\n",
        "      'redirect_uri': redirect_uri,\n",
        "      'client_id': client_id,\n",
        "      'client_secret': client_secret,\n",
        "  }\n",
        "  response = requests.post(token_url, data=token_data)\n",
        "  token = response.json()['access_token']\n",
        "  return token"
      ],
      "metadata": {
        "id": "4fpJHgWEJ-rk"
      },
      "execution_count": 135,
      "outputs": []
    },
    {
      "cell_type": "markdown",
      "source": [
        "#### Funções"
      ],
      "metadata": {
        "id": "H89OF82aKF2u"
      }
    },
    {
      "cell_type": "markdown",
      "source": [
        "### Busca no Spotify generos de Artistas"
      ],
      "metadata": {
        "id": "gypU8L1NK9cK"
      }
    },
    {
      "cell_type": "code",
      "source": [
        "def BuscaArtist(api_token, genre, offset=0):\n",
        "  url = 'https://api.spotify.com/v1/search'\n",
        "  limit = 50\n",
        "  headers = {'Authorization': f'Bearer {access_token}'}\n",
        "  params = {\n",
        "    'q': f'genre:{genre}',\n",
        "    'type': 'artist',\n",
        "    'limit': limit,\n",
        "    'offset': offset,\n",
        "    'market' : 'BR',\n",
        "  }\n",
        "\n",
        "  response = requests.get(url, params=params, headers=headers)\n",
        "  # Verificar se a requisição foi bem-sucedida\n",
        "  if response.status_code == 200:\n",
        "    artists = response.json().get('artists', {}).get('items', [])\n",
        "    if len(artists) == limit:\n",
        "      next_offset = offset + limit\n",
        "      more_artists = BuscaArtist(api_token, genre, offset=next_offset)\n",
        "      artists.extend(more_artists)\n",
        "  return artists"
      ],
      "metadata": {
        "id": "Llih1IVNK8gx"
      },
      "execution_count": 6,
      "outputs": []
    },
    {
      "cell_type": "markdown",
      "source": [
        "##### Extraindo os artistas pelos generos (\"Rock Nacional\", \"Piseiro/Arrocha\" e \"Pop Internacional\")"
      ],
      "metadata": {
        "id": "mZEHR6fQXj-D"
      }
    },
    {
      "cell_type": "code",
      "source": [
        "access_token = GetToken(client_id, client_secret)\n",
        "\n",
        "genres = ['\"Rock Nacional\"', '\"Piseiro/Arrocha\"', '\"Pop Internacional\"']\n",
        "i = 0\n",
        "for genre in genres:\n",
        "  if i == 0:\n",
        "    lt = BuscaArtist(access_token, genre)\n",
        "    i=1\n",
        "    print(f'Extraindo dados de {genre}, com um total de {len(lt)} registros')\n",
        "  else:\n",
        "    more_genre = BuscaArtist(access_token, genre)\n",
        "    lt.extend(more_genre)\n",
        "    i=i+1\n",
        "    print(f'Extraindo dados de {genre}, com um total de {len(more_genre)} registros')\n",
        "\n",
        "print(f'Extraindo {len(lt)} registros')"
      ],
      "metadata": {
        "id": "xZRwC4FJShb1",
        "colab": {
          "base_uri": "https://localhost:8080/"
        },
        "outputId": "57466177-36f5-4abe-d494-d41ac1bdfb7d"
      },
      "execution_count": 7,
      "outputs": [
        {
          "output_type": "stream",
          "name": "stdout",
          "text": [
            "Extraindo dados de \"Rock Nacional\", com um total de 253 registros\n",
            "Extraindo dados de \"Piseiro/Arrocha\", com um total de 6 registros\n",
            "Extraindo dados de \"Pop Internacional\", com um total de 0 registros\n",
            "Extraindo 259 registros\n"
          ]
        }
      ]
    },
    {
      "cell_type": "code",
      "source": [
        "Artist = spark.createDataFrame(lt)"
      ],
      "metadata": {
        "id": "-FZoYPrSTm7H"
      },
      "execution_count": 370,
      "outputs": []
    },
    {
      "cell_type": "code",
      "source": [
        "Artist.count()"
      ],
      "metadata": {
        "id": "HWS7CgIMXZ4R",
        "colab": {
          "base_uri": "https://localhost:8080/"
        },
        "outputId": "5c48ea72-a5ac-41ec-9dc1-18655eb6c515"
      },
      "execution_count": 9,
      "outputs": [
        {
          "output_type": "execute_result",
          "data": {
            "text/plain": [
              "259"
            ]
          },
          "metadata": {},
          "execution_count": 9
        }
      ]
    },
    {
      "cell_type": "markdown",
      "source": [
        "#### Armazene os dados em formato parquet, particionando por artista;"
      ],
      "metadata": {
        "id": "QNPrZhCRYkqD"
      }
    },
    {
      "cell_type": "code",
      "source": [
        "Artist.write.partitionBy(\"id\").mode(\"overwrite\").format(\"parquet\").save(\"/content/parquet/artist\")"
      ],
      "metadata": {
        "id": "Mc6eGb2EYqPn"
      },
      "execution_count": 10,
      "outputs": []
    },
    {
      "cell_type": "markdown",
      "source": [
        "##### Lendo dados através dos arquivos parquet"
      ],
      "metadata": {
        "id": "t4BZ1k6wZNY0"
      }
    },
    {
      "cell_type": "code",
      "source": [
        "file_path = \"/content/parquet/artist\"\n",
        "parquet = spark.read.parquet(file_path)\n",
        "Dados = parquet.filter(parquet['name'] == 'Pez').show()"
      ],
      "metadata": {
        "colab": {
          "base_uri": "https://localhost:8080/"
        },
        "id": "seuPUY-nZSo5",
        "outputId": "b88d5a93-bfc4-4646-ffd0-91b3f89f6f4b"
      },
      "execution_count": 11,
      "outputs": [
        {
          "output_type": "stream",
          "name": "stdout",
          "text": [
            "+--------------------+--------------------+--------------------+--------------------+--------------------+----+----------+------+--------------------+--------------------+\n",
            "|       external_urls|           followers|              genres|                href|              images|name|popularity|  type|                 uri|                  id|\n",
            "+--------------------+--------------------+--------------------+--------------------+--------------------+----+----------+------+--------------------+--------------------+\n",
            "|{spotify -> https...|{total -> 33474, ...|[argentine indie,...|https://api.spoti...|[{width -> 640, u...| Pez|        29|artist|spotify:artist:00...|00demsNI1p5KmzWGl...|\n",
            "+--------------------+--------------------+--------------------+--------------------+--------------------+----+----------+------+--------------------+--------------------+\n",
            "\n"
          ]
        }
      ]
    },
    {
      "cell_type": "markdown",
      "source": [
        "### Crie um dataframe com o endpoint \"Get Artist\""
      ],
      "metadata": {
        "id": "xLIg10q2JDBf"
      }
    },
    {
      "cell_type": "code",
      "source": [
        "access_token = GetToken(client_id, client_secret)\n",
        "\n",
        "# Função para obter informações sobre um artista pelo ID\n",
        "def GetArtist(artist_id, token):\n",
        "    url = f'https://api.spotify.com/v1/artists/{artist_id}'\n",
        "    headers = {'Authorization': f'Bearer {token}'}\n",
        "\n",
        "    response = requests.get(url, headers=headers)\n",
        "    data = response.json()\n",
        "\n",
        "    return data"
      ],
      "metadata": {
        "id": "NkAnOMQCJH-o"
      },
      "execution_count": 12,
      "outputs": []
    },
    {
      "cell_type": "code",
      "source": [
        "for row in lt:\n",
        "  print(row['id'])"
      ],
      "metadata": {
        "id": "pypMV-aRPxRG"
      },
      "execution_count": null,
      "outputs": []
    },
    {
      "cell_type": "code",
      "source": [
        "import pandas as pd\n",
        "\n",
        "schema = ['id','name','popularity','followers']\n",
        "df = pd.DataFrame(columns = schema)\n",
        "\n",
        "access_token = GetToken(client_id,client_secret)\n",
        "lt = Artist.select('id').collect()\n",
        "print('Iniciando Extração...')\n",
        "for row in lt:\n",
        "  lt1 = GetArtist(row['id'], access_token)\n",
        "  df1 = pd.DataFrame([ [lt1[\"id\"], lt1.get(\"name\"), lt1.get(\"popularity\"), lt1.get(\"followers\").get(\"total\")] ], columns = schema)\n",
        "  df = pd.concat([df,df1], ignore_index=True)\n",
        "  # print(row['id'])\n",
        "print('Fim da Extração, com ')\n",
        "\n",
        "df_artists = spark.createDataFrame(df)\n",
        "df_artists.show()"
      ],
      "metadata": {
        "id": "MGp0T5EjL5yA"
      },
      "execution_count": null,
      "outputs": []
    },
    {
      "cell_type": "markdown",
      "source": [
        "### Crie um dataframe com o endpoint \"Get Artist's Albums\" e traga as músicas dos álbuns que estão no endpoint \"Get Album Tracks\"."
      ],
      "metadata": {
        "id": "29ewH65thNER"
      }
    },
    {
      "cell_type": "code",
      "source": [
        "def GetArtistAlbums(access_token, id, offset=0):\n",
        "  url = f\"https://api.spotify.com/v1/artists/{id}/albums\"\n",
        "  limit = 50\n",
        "  headers = {'Authorization': f'Bearer {access_token}'}\n",
        "  params = {\n",
        "    'limit': limit,\n",
        "    'offset': offset,\n",
        "    'market' : 'BR',\n",
        "  }\n",
        "\n",
        "  response = requests.get(url, params=params, headers=headers)\n",
        "  if response.status_code == 200:\n",
        "    albums = response.json()[\"items\"]\n",
        "    if len(albums) == limit:\n",
        "      next_offset = offset + limit\n",
        "      more_albums = GetArtistAlbums(access_token, id, offset=next_offset)\n",
        "      albums.extend(more_albums)\n",
        "    return albums\n",
        "  else:\n",
        "    print(f\"Erro ao obter os álbuns do artista. Código de status: {response.status_code}\")\n",
        "    return None"
      ],
      "metadata": {
        "id": "YNrYU1B6hSc9"
      },
      "execution_count": 43,
      "outputs": []
    },
    {
      "cell_type": "code",
      "source": [
        "access_token = GetToken(client_id,client_secret)\n",
        "\n",
        "lt = Artist.select('id').collect()\n",
        "i=0\n",
        "for row in lt:\n",
        "  if i == 0:\n",
        "    lt1 = GetArtistAlbums(access_token, row['id'])\n",
        "    i=i+1\n",
        "  else:\n",
        "    lt2 = GetArtistAlbums(access_token, row['id'])\n",
        "    lt1 = lt1+lt2\n",
        "    i=i+1\n",
        "\n",
        "print(f'Fim da Extração, com {i} extrações')"
      ],
      "metadata": {
        "colab": {
          "base_uri": "https://localhost:8080/"
        },
        "id": "9XIjK4LiiJGA",
        "outputId": "11a3d8db-055e-40db-b626-97bc317b76ee"
      },
      "execution_count": 25,
      "outputs": [
        {
          "output_type": "stream",
          "name": "stdout",
          "text": [
            "Fim da Extração, com 259 extrações\n"
          ]
        }
      ]
    },
    {
      "cell_type": "code",
      "source": [
        "df_albums = spark.createDataFrame(lt1)"
      ],
      "metadata": {
        "id": "_ab7EnR-ymU9"
      },
      "execution_count": 27,
      "outputs": []
    },
    {
      "cell_type": "code",
      "source": [
        "df_albums.show()"
      ],
      "metadata": {
        "id": "SF32xIi8mwO6"
      },
      "execution_count": null,
      "outputs": []
    },
    {
      "cell_type": "code",
      "source": [
        "def GetTracks(access_token, id, offset=0):\n",
        "  url = f\"https://api.spotify.com/v1/albums/{id}/tracks\"\n",
        "  limit = 50\n",
        "  headers = {'Authorization': f'Bearer {access_token}'}\n",
        "  params = {\n",
        "    'limit': limit,\n",
        "    'offset': offset,\n",
        "    'market' : 'BR',\n",
        "  }\n",
        "\n",
        "  response = requests.get(url, params=params, headers=headers)\n",
        "  if response.status_code == 200:\n",
        "    tracks = response.json()[\"items\"]\n",
        "    if len(tracks) == limit:\n",
        "      next_offset = offset + limit\n",
        "      more_albums = GetTracks(access_token, id, offset=next_offset)\n",
        "      tracks.extend(more_albums)\n",
        "    return tracks\n",
        "  else:\n",
        "    print(f\"Erro ao obter as tracks do Album. Código de status: {response.status_code}\")\n",
        "    return None"
      ],
      "metadata": {
        "id": "yg17yRg13sWy"
      },
      "execution_count": 66,
      "outputs": []
    },
    {
      "cell_type": "code",
      "source": [
        "access_token = GetToken(client_id,client_secret)\n",
        "i=0\n",
        "lt = df_albums.select('id').collect()\n",
        "for row in lt:\n",
        "  if i == 0:\n",
        "    tr1 = GetTracks(access_token, row['id'])\n",
        "    i=i+1\n",
        "  else:\n",
        "    tr2 = GetTracks(access_token, row['id'])\n",
        "    tr1 = tr1+tr2\n",
        "    i=i+1"
      ],
      "metadata": {
        "id": "UBgfKVu-3Jaf"
      },
      "execution_count": null,
      "outputs": []
    },
    {
      "cell_type": "code",
      "source": [
        "df_tracks = spark.createDataFrame(tr1)"
      ],
      "metadata": {
        "id": "UXbIwJ5b4sSu"
      },
      "execution_count": 71,
      "outputs": []
    },
    {
      "cell_type": "markdown",
      "source": [
        "### Criando DataFrame My play List"
      ],
      "metadata": {
        "id": "bnGQUt_TCq8Y"
      }
    },
    {
      "cell_type": "code",
      "source": [
        "def GetMyPlaylist (access_token):\n",
        "  url = \"https://api.spotify.com/v1/me/playlists\"\n",
        "  headers = {'Authorization': f'Bearer {access_token}'}\n",
        "  response = requests.request(\"GET\", url, headers=headers)\n",
        "  return response.json()"
      ],
      "metadata": {
        "id": "5l4rxAzY9MIC"
      },
      "execution_count": 101,
      "outputs": []
    },
    {
      "cell_type": "code",
      "source": [
        "accces_token = GetTokenPrivate(client_id,client_secret)"
      ],
      "metadata": {
        "colab": {
          "base_uri": "https://localhost:8080/"
        },
        "id": "vfVqAcFb64Tm",
        "outputId": "af49c57d-689a-43f9-8ac7-37f2f0bc54b4"
      },
      "execution_count": 102,
      "outputs": [
        {
          "name": "stdout",
          "output_type": "stream",
          "text": [
            "Por favor, acesse esta URL para autorizar a aplicação: https://accounts.spotify.com/en/login?continue=https%3A%2F%2Faccounts.spotify.com%2Fauthorize%3Fscope%3Duser-library-read%2Bplaylist-read-private%26response_type%3Dcode%26redirect_uri%3Dhttps%253A%252F%252Fwww.example.com%252Foidc_callback%26client_id%3D0297e6853ee643fbb74ed9d45a4f90f6\n",
            "Por favor, insira o código de autorização: AQBysLLqBcca4qRU8ZNN08LS9Hi6VmPfTg986fUDeRyzhkf_djM5arK9OSvmLjzyg3_r-GTZI2DCcAEWKKOvz-jxIRtUYaS0zw07tqVnO59Mco4LliQ1YoDH7XEd3XT8wqvfPKFv4UczNSG2BtOb-9kfF0a6QReqjBJIqYeyYUIhgpYFIXFrdptaJs75XwKJY3zCTgYxY3pEnMNI_O4LA4qre_zJs_HWK05Q187U7nuv6YQ\n"
          ]
        }
      ]
    },
    {
      "cell_type": "code",
      "source": [
        "playlists_data = GetMyPlaylist(accces_token)"
      ],
      "metadata": {
        "id": "tPKrxyEI_lrJ"
      },
      "execution_count": 141,
      "outputs": []
    },
    {
      "cell_type": "code",
      "source": [
        "playlists_info = [(playlist[\"id\"],playlist[\"name\"],playlist[\"description\"],playlist.get(\"tracks\").get(\"total\")) for playlist in playlists_data[\"items\"]]\n",
        "df_playlist = spark.createDataFrame(playlists_info, [\"id\", \"name\", \"description\",\"tracks\"])\n",
        "df_playlist.show()"
      ],
      "metadata": {
        "colab": {
          "base_uri": "https://localhost:8080/"
        },
        "id": "-GqMREhEAThZ",
        "outputId": "2af87f64-38fd-48d6-9a94-f7fd98f6da5b"
      },
      "execution_count": 144,
      "outputs": [
        {
          "output_type": "stream",
          "name": "stdout",
          "text": [
            "+--------------------+---------------+--------------------+------+\n",
            "|                  id|           name|         description|tracks|\n",
            "+--------------------+---------------+--------------------+------+\n",
            "|37i9dQZF1DWWr5uie...|Trapperz Brasil|o melhor do trap ...|    50|\n",
            "|37i9dQZF1DX0FOF1I...|     Top Brasil|Manu, Simone Mend...|    50|\n",
            "|37i9dQZF1E38NFXWH...|    Daily Mix 2|Henrique & Julian...|    50|\n",
            "|7wvzE4xu5HsOCaaFj...|               |                    |    22|\n",
            "+--------------------+---------------+--------------------+------+\n",
            "\n"
          ]
        }
      ]
    },
    {
      "cell_type": "markdown",
      "source": [
        "### Criando uma tabela temporária em PySpark a partir do DataFrame de músicas dos artistas\n"
      ],
      "metadata": {
        "id": "VFYMiD50C2IM"
      }
    },
    {
      "cell_type": "code",
      "source": [
        "df_tracks.createOrReplaceTempView(\"tracks\")\n",
        "\n",
        "consulta_sql = \"SELECT * FROM tracks\"\n",
        "result = spark.sql(consulta_sql)\n",
        "result.show(truncate=False)"
      ],
      "metadata": {
        "id": "znZ2RtvpCn5b"
      },
      "execution_count": null,
      "outputs": []
    },
    {
      "cell_type": "markdown",
      "source": [
        "### Criando uma tabela temporária em Pyspark a partir do Dataframe de Playlists\n"
      ],
      "metadata": {
        "id": "3Sj1OfxmDQPK"
      }
    },
    {
      "cell_type": "code",
      "source": [
        "df_playlist.createOrReplaceTempView(\"playlist\")"
      ],
      "metadata": {
        "id": "F4rmSrnsLgkx"
      },
      "execution_count": 113,
      "outputs": []
    },
    {
      "cell_type": "markdown",
      "source": [
        "### Execute uma consulta SQL que retorna os artistas do endpoint \"Get Artist\" que estão nas Playlists, ordenados por ordem alfabética.\n"
      ],
      "metadata": {
        "id": "D4hpHve3LzfX"
      }
    },
    {
      "cell_type": "code",
      "source": [
        "# result = spark.sql('select * from playlist')\n",
        "# result.show()\n",
        "\n",
        "df_artists.sort('name').show()"
      ],
      "metadata": {
        "colab": {
          "base_uri": "https://localhost:8080/"
        },
        "id": "yAghqvapMR-z",
        "outputId": "2a163d71-e7fb-4cff-c2ee-4be7e05386ef"
      },
      "execution_count": 120,
      "outputs": [
        {
          "output_type": "stream",
          "name": "stdout",
          "text": [
            "+--------------------+--------------------+----------+---------+\n",
            "|                  id|                name|popularity|followers|\n",
            "+--------------------+--------------------+----------+---------+\n",
            "|4cz8toptnAtxffn7g...|              14 Bis|        44|   319250|\n",
            "|3vFybByEN1a5cjYoa...|              AN4NDA|         0|        0|\n",
            "|0RZvJL3AicNni7cis...|        Adrián Otero|        19|    13015|\n",
            "|0oIxiHRBpqq0VJe3w...|            Aeroblus|        14|     8078|\n",
            "|78RO0kh8OAJf6vMKV...|        Afonso Nigro|        17|     4634|\n",
            "|1DAJ5jfLrqvB6DU52...|                Alas|         3|     1330|\n",
            "|2MvoqSSTigBbfXWoS...|    Alejandro Medina|        13|     4663|\n",
            "|6Qv7PzO62iPNtE9jN...|         Alma Y Vida|        16|    12347|\n",
            "|7x2a9uyqlWbE9Lwco...|            Almendra|        49|   371706|\n",
            "|3SF82To29Y7SnNbgo...|               AnamA|         0|      231|\n",
            "|1OnaDJeU2PxDBZZFk...|Anderson & Vei da...|        45|   249075|\n",
            "|2GD7vRCBhQZKVChMM...|              Anfear|         1|      640|\n",
            "|6HGVx8BKrpH04jAQW...|      Angelique Band|         0|       49|\n",
            "|5T4gtkJlsKJxhnTYs...|AnnaLu & The Skyw...|         0|      107|\n",
            "|66DfDCITtbXcmQnQf...|    Antonio Birabent|        24|     8072|\n",
            "|7zsTaSj1Q4jSCjbj5...|       Aníbal Troilo|        33|    49913|\n",
            "|3cG8AMyTTUk3Y6LIq...|           Aquelarre|        21|    48998|\n",
            "|7pa4Z64S1qU90Qytn...|            Arbolito|        30|    55931|\n",
            "|7bDdfcNbzXDehJBFq...|      Arcana Elysium|         0|      334|\n",
            "|1fl6UrQ5p2aQQwKfk...|           Arco Iris|        23|    31890|\n",
            "+--------------------+--------------------+----------+---------+\n",
            "only showing top 20 rows\n",
            "\n"
          ]
        }
      ]
    },
    {
      "cell_type": "code",
      "source": [
        "df_artists.createOrReplaceTempView(\"tabela_temporaria_artistas\")\n",
        "\n",
        "consulta_sql = \"SELECT * FROM tabela_temporaria_artistas ORDER BY name\"\n",
        "result = spark.sql(consulta_sql)\n",
        "result.show()"
      ],
      "metadata": {
        "colab": {
          "base_uri": "https://localhost:8080/"
        },
        "id": "_v4bBrGgNOCA",
        "outputId": "90bd2349-f3be-4072-e650-4c34e6401482"
      },
      "execution_count": 123,
      "outputs": [
        {
          "output_type": "stream",
          "name": "stdout",
          "text": [
            "+--------------------+--------------------+----------+---------+\n",
            "|                  id|                name|popularity|followers|\n",
            "+--------------------+--------------------+----------+---------+\n",
            "|4cz8toptnAtxffn7g...|              14 Bis|        44|   319250|\n",
            "|3vFybByEN1a5cjYoa...|              AN4NDA|         0|        0|\n",
            "|0RZvJL3AicNni7cis...|        Adrián Otero|        19|    13015|\n",
            "|0oIxiHRBpqq0VJe3w...|            Aeroblus|        14|     8078|\n",
            "|78RO0kh8OAJf6vMKV...|        Afonso Nigro|        17|     4634|\n",
            "|1DAJ5jfLrqvB6DU52...|                Alas|         3|     1330|\n",
            "|2MvoqSSTigBbfXWoS...|    Alejandro Medina|        13|     4663|\n",
            "|6Qv7PzO62iPNtE9jN...|         Alma Y Vida|        16|    12347|\n",
            "|7x2a9uyqlWbE9Lwco...|            Almendra|        49|   371706|\n",
            "|3SF82To29Y7SnNbgo...|               AnamA|         0|      231|\n",
            "|1OnaDJeU2PxDBZZFk...|Anderson & Vei da...|        45|   249075|\n",
            "|2GD7vRCBhQZKVChMM...|              Anfear|         1|      640|\n",
            "|6HGVx8BKrpH04jAQW...|      Angelique Band|         0|       49|\n",
            "|5T4gtkJlsKJxhnTYs...|AnnaLu & The Skyw...|         0|      107|\n",
            "|66DfDCITtbXcmQnQf...|    Antonio Birabent|        24|     8072|\n",
            "|7zsTaSj1Q4jSCjbj5...|       Aníbal Troilo|        33|    49913|\n",
            "|3cG8AMyTTUk3Y6LIq...|           Aquelarre|        21|    48998|\n",
            "|7pa4Z64S1qU90Qytn...|            Arbolito|        30|    55931|\n",
            "|7bDdfcNbzXDehJBFq...|      Arcana Elysium|         0|      334|\n",
            "|1fl6UrQ5p2aQQwKfk...|           Arco Iris|        23|    31890|\n",
            "+--------------------+--------------------+----------+---------+\n",
            "only showing top 20 rows\n",
            "\n"
          ]
        }
      ]
    },
    {
      "cell_type": "code",
      "source": [
        "df_playlist.show()"
      ],
      "metadata": {
        "colab": {
          "base_uri": "https://localhost:8080/"
        },
        "id": "tMWmNLvJN9dP",
        "outputId": "bbadbd6f-a6de-4831-d990-3ced582d9b82"
      },
      "execution_count": 124,
      "outputs": [
        {
          "output_type": "stream",
          "name": "stdout",
          "text": [
            "+--------------------+---------------+--------------------+\n",
            "|                  id|           name|         description|\n",
            "+--------------------+---------------+--------------------+\n",
            "|37i9dQZF1DWWr5uie...|Trapperz Brasil|o melhor do trap ...|\n",
            "|37i9dQZF1DX0FOF1I...|     Top Brasil|Manu, Simone Mend...|\n",
            "|37i9dQZF1E38NFXWH...|    Daily Mix 2|Henrique & Julian...|\n",
            "|7wvzE4xu5HsOCaaFj...|               |                    |\n",
            "+--------------------+---------------+--------------------+\n",
            "\n"
          ]
        }
      ]
    },
    {
      "cell_type": "markdown",
      "source": [
        "### 1"
      ],
      "metadata": {
        "id": "1rzbFKiIPtaO"
      }
    },
    {
      "cell_type": "code",
      "source": [
        "# \"https://api.spotify.com/v1/playlists/37i9dQZF1DWWr5uieiPUVM/tracks\"\n",
        "\n",
        "def GetTracksPlaylist(access_token, idPlaylist, offset=0):\n",
        "  url = f\"https://api.spotify.com/v1/playlists/{idPlaylist}/tracks\"\n",
        "  limit = 50\n",
        "  headers = {'Authorization': f'Bearer {access_token}'}\n",
        "  params = {\n",
        "    'limit': limit,\n",
        "    'offset': offset,\n",
        "    'market' : 'BR',\n",
        "    'fields': 'items(track(id,name,artists(id,name)))',\n",
        "  }\n",
        "\n",
        "  response = requests.get(url, params=params, headers=headers)\n",
        "  return response.json()"
      ],
      "metadata": {
        "id": "4g8t3dpNOeT7"
      },
      "execution_count": 352,
      "outputs": []
    },
    {
      "cell_type": "code",
      "source": [
        "access_token = GetToken(client_id,client_secret)\n",
        "\n",
        "# GetTracksPlaylist(access_token, id).json()"
      ],
      "metadata": {
        "id": "BeN-d-qKO-Sd"
      },
      "execution_count": 342,
      "outputs": []
    },
    {
      "cell_type": "code",
      "source": [
        "from pyspark.sql.functions import explode, explode_outer, col\n",
        "\n",
        "lt = df_playlist.select('id').collect()\n",
        "lt\n",
        "i=0\n",
        "for row in lt:\n",
        "  if i == 0:\n",
        "    lt1 = GetTracksPlaylist(access_token, row['id'])\n",
        "    df_tracks_playlist = spark.createDataFrame(lt1['items'])\n",
        "    i=i+1\n",
        "  else:\n",
        "    lt2 = GetTracksPlaylist(access_token, row['id'])\n",
        "    more_tracks_playlist = spark.createDataFrame(lt2['items'])\n",
        "    df_tracks_playlist = df_tracks_playlist.union(more_tracks_playlist)\n",
        "    i=i+1\n",
        "\n",
        "print(f'Fim da Extração, com {i} extrações')\n",
        "\n",
        "lt1 = GetTracksPlaylist(access_token, '37i9dQZF1DWWr5uieiPUVM')\n",
        "lt = lt1.get('items')\n",
        "\n",
        "df_tracks_playlist = df_tracks_playlist.select(\n",
        "    col(\"track.id\").alias(\"track_id\"),\n",
        "    col(\"track.name\").alias(\"track_name\"),\n",
        "    explode_outer(\"track.artists\").alias(\"artists\")\n",
        ")\n",
        "\n",
        "df_tracks_playlist = df_tracks_playlist.select(\n",
        "    col(\"track_id\"),\n",
        "    col(\"track_name\"),\n",
        "    col(\"artists.name\").alias(\"artist_name\"),\n",
        "    col(\"artists.id\").alias(\"artist_id\")\n",
        ")\n",
        "\n",
        "# df_tracks_playlist.show(truncate=False)"
      ],
      "metadata": {
        "colab": {
          "base_uri": "https://localhost:8080/"
        },
        "id": "f-2aAKGMRv8b",
        "outputId": "18bd3c38-6f62-4bbb-fb0d-7f756d9baf18"
      },
      "execution_count": 354,
      "outputs": [
        {
          "output_type": "stream",
          "name": "stdout",
          "text": [
            "Fim da Extração, com 4 extrações\n"
          ]
        }
      ]
    },
    {
      "cell_type": "code",
      "source": [
        "df_playlist.show()"
      ],
      "metadata": {
        "colab": {
          "base_uri": "https://localhost:8080/"
        },
        "id": "ELQ5IEJudcru",
        "outputId": "af45acd3-1404-451a-e930-3fe9eb6941e4"
      },
      "execution_count": 227,
      "outputs": [
        {
          "output_type": "stream",
          "name": "stdout",
          "text": [
            "+--------------------+---------------+--------------------+------+\n",
            "|                  id|           name|         description|tracks|\n",
            "+--------------------+---------------+--------------------+------+\n",
            "|37i9dQZF1DWWr5uie...|Trapperz Brasil|o melhor do trap ...|    50|\n",
            "|37i9dQZF1DX0FOF1I...|     Top Brasil|Manu, Simone Mend...|    50|\n",
            "|37i9dQZF1E38NFXWH...|    Daily Mix 2|Henrique & Julian...|    50|\n",
            "|7wvzE4xu5HsOCaaFj...|               |                    |    22|\n",
            "+--------------------+---------------+--------------------+------+\n",
            "\n"
          ]
        }
      ]
    },
    {
      "cell_type": "code",
      "source": [
        "df_tracks_playlist.show(truncate=False)"
      ],
      "metadata": {
        "colab": {
          "base_uri": "https://localhost:8080/"
        },
        "id": "RvA2wQCs0AOE",
        "outputId": "0dbce761-5134-4cdb-8cd4-52f137665c2f"
      },
      "execution_count": 365,
      "outputs": [
        {
          "output_type": "stream",
          "name": "stdout",
          "text": [
            "+--------+----------+-----------------+----------------------+\n",
            "|track_id|track_name|artist_name      |artist_id             |\n",
            "+--------+----------+-----------------+----------------------+\n",
            "|NULL    |NULL      |Tz da Coronel    |3lIU3RoZiHen1QXAQ3KQ9e|\n",
            "|NULL    |NULL      |Dj Alle da coro  |6fGH2Qk8eKAcvEU1nHOi8x|\n",
            "|NULL    |NULL      |Cúpula           |6IlN4Mij49rPYznzeOMD1F|\n",
            "|NULL    |NULL      |MC Ryan SP       |75i9GaW2MJUgt4BkdUnuUY|\n",
            "|NULL    |NULL      |KayBlack         |2h5Ha0ZiMFmOQD3iYcSXsy|\n",
            "|NULL    |NULL      |MC Caverinha     |7tojcuXcZ7eBlQjbAc65Ee|\n",
            "|NULL    |NULL      |Portugal No Beat |71LRKKvAjoc6LyNmob269Q|\n",
            "|NULL    |NULL      |Vulgo FK         |27azwwkxutWL1BWMkgNIh0|\n",
            "|NULL    |NULL      |Orochi           |3rfM2cGqF6DB0kUyytMkXx|\n",
            "|NULL    |NULL      |Caio Luccas      |1a3fr7NdeBT4JlGj6YlbDL|\n",
            "|NULL    |NULL      |Pedro Lotto      |23ot0eI6ByBW6LrlBfr2bm|\n",
            "|NULL    |NULL      |Mainstreet       |25XJqeReVV38w0tR04GGBd|\n",
            "|NULL    |NULL      |Galdino          |0WvTL8PecsD3VxRGuHdSxj|\n",
            "|NULL    |NULL      |Ribb             |0QDtEwBuAbylERTOT4PntE|\n",
            "|NULL    |NULL      |Derek            |4Y0VwRwAOyJutxoVpPX4td|\n",
            "|NULL    |NULL      |Baco Exu do Blues|78nr1pVnDR7qZH6QbVMYZf|\n",
            "|NULL    |NULL      |Tz da Coronel    |3lIU3RoZiHen1QXAQ3KQ9e|\n",
            "|NULL    |NULL      |Kawe             |1TYJOhNSxMOODWiDVhuyZb|\n",
            "|NULL    |NULL      |Cúpula           |6IlN4Mij49rPYznzeOMD1F|\n",
            "|NULL    |NULL      |Vulgo FK         |27azwwkxutWL1BWMkgNIh0|\n",
            "+--------+----------+-----------------+----------------------+\n",
            "only showing top 20 rows\n",
            "\n"
          ]
        }
      ]
    },
    {
      "cell_type": "code",
      "source": [
        "df_artists.show()"
      ],
      "metadata": {
        "colab": {
          "base_uri": "https://localhost:8080/"
        },
        "id": "msz0ezn4evhJ",
        "outputId": "af7f9e27-59dc-47c1-d371-82336bbec225"
      },
      "execution_count": 228,
      "outputs": [
        {
          "output_type": "stream",
          "name": "stdout",
          "text": [
            "+--------------------+--------------------+----------+---------+\n",
            "|                  id|                name|popularity|followers|\n",
            "+--------------------+--------------------+----------+---------+\n",
            "|1on7ZQ2pvgeQF4vmI...|   Charlie Brown Jr.|        71|  6657197|\n",
            "|6tw6EpC9RgmSRZiZg...|       Legião Urbana|        65|  6097390|\n",
            "|4C4kpaAdp6aKSkguw...|               Skank|        64|  2887232|\n",
            "|1A5QJAC1vdhbhPE25...|             O Rappa|        63|  3529943|\n",
            "|0GNq4xh8uFCyihPur...|Engenheiros Do Ha...|        62|  2350715|\n",
            "|0A1oy7PC7fdzURgaL...|         Lulu Santos|        62|  1965180|\n",
            "|5re6NsyXzHg6uvNim...|          Jota Quest|        61|  2252837|\n",
            "|4Z0yuwHVJBROVZqFp...|     Capital Inicial|        60|  2818426|\n",
            "|2euX7vCVnJy3TVEGf...|               Titãs|        60|  2127467|\n",
            "|7EM9m7HOXxVgP9oEp...|Os Paralamas Do S...|        60|  2185639|\n",
            "|1PwOU6fFbmaGkK3wk...|              Cazuza|        59|  1863470|\n",
            "|7jrRQZg4FZq6dwpi3...|         Raul Seixas|        59|  2158561|\n",
            "|4bOZtegYNmYOe3gMg...|          Kid Abelha|        58|  1561014|\n",
            "|0JC6R3kbXUHe5Qrxq...|     Preto no Branco|        57|  1347865|\n",
            "|3CfJckVRuukdJSvK3...|           Raimundos|        57|  1492900|\n",
            "|1vEN3d3dJbmdHQpXD...|          Marcelo D2|        57|  1232006|\n",
            "|7Brxri4l1ATShikyH...|        Los Hermanos|        55|   909778|\n",
            "|5zq0SGWxrmzpTSXkB...|      Barão Vermelho|        55|  1357957|\n",
            "|3WVjDclrbHsxjxhiO...|              Frejat|        54|  1239826|\n",
            "|7L5YQQJPL1wrmrdig...|                Ira!|        53|  1096212|\n",
            "+--------------------+--------------------+----------+---------+\n",
            "only showing top 20 rows\n",
            "\n"
          ]
        }
      ]
    },
    {
      "cell_type": "markdown",
      "source": [
        "### Executando uma consulta SQL que retorna os artistas do endpoint \"Get Artist\" que estão nas Playlists, ordenados por ordem alfabética.\n"
      ],
      "metadata": {
        "id": "k_RmC3r40_zf"
      }
    },
    {
      "cell_type": "code",
      "source": [
        "df_artists.createOrReplaceTempView(\"tabela_temporaria_artistas\")\n",
        "# df_tracks_playlist.distinct().select('artist_id').createOrReplaceTempView(\"artist_pl\")\n",
        "\n",
        "df = df_tracks_playlist.select('artist_id')\n",
        "df = df.distinct()\n",
        "df.createOrReplaceTempView(\"artist_pl\")\n",
        "\n",
        "consulta_sql = \"SELECT a.* FROM tabela_temporaria_artistas a inner join artist_pl on artist_pl.artist_id = a.id ORDER BY a.name\"\n",
        "result = spark.sql(consulta_sql)\n",
        "result.show()"
      ],
      "metadata": {
        "colab": {
          "base_uri": "https://localhost:8080/"
        },
        "id": "QawRNj-czhYy",
        "outputId": "3aed0e65-221f-4629-f686-4c0603a4e83c"
      },
      "execution_count": 369,
      "outputs": [
        {
          "output_type": "stream",
          "name": "stdout",
          "text": [
            "+--------------------+-----------+----------+---------+\n",
            "|                  id|       name|popularity|followers|\n",
            "+--------------------+-----------+----------+---------+\n",
            "|1A5QJAC1vdhbhPE25...|    O Rappa|        63|  3529943|\n",
            "|3whgFbrRxsOmYVrq3...|Paulo Pires|        57|    44896|\n",
            "+--------------------+-----------+----------+---------+\n",
            "\n"
          ]
        }
      ]
    },
    {
      "cell_type": "markdown",
      "source": [
        "### Criando um Dataframe com o resultado da consulta e salve em parquet"
      ],
      "metadata": {
        "id": "ekCwhf4D1FGO"
      }
    },
    {
      "cell_type": "code",
      "source": [
        "result.write.mode(\"overwrite\").format(\"parquet\").save(\"/content/parquet/resultados\")"
      ],
      "metadata": {
        "id": "fFDyFeZk1Jh-"
      },
      "execution_count": 371,
      "outputs": []
    }
  ]
}
